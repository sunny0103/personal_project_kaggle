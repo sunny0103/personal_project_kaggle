{
 "cells": [
  {
   "cell_type": "code",
   "execution_count": 1,
   "metadata": {
    "_cell_guid": "b1076dfc-b9ad-4769-8c92-a6c4dae69d19",
    "_uuid": "8f2839f25d086af736a60e9eeb907d3b93b6e0e5",
    "execution": {
     "iopub.execute_input": "2021-09-30T13:07:33.351595Z",
     "iopub.status.busy": "2021-09-30T13:07:33.351260Z",
     "iopub.status.idle": "2021-09-30T13:07:34.265638Z",
     "shell.execute_reply": "2021-09-30T13:07:34.264541Z",
     "shell.execute_reply.started": "2021-09-30T13:07:33.351516Z"
    }
   },
   "outputs": [],
   "source": [
    "# import libararies\n",
    "import numpy as np # linear algebra\n",
    "import pandas as pd # data processing, CSV file I/O (e.g. pd.read_csv)\n",
    "import matplotlib.pyplot as plt\n",
    "import seaborn as sns\n",
    "# Input data files are available in the read-only \"../input/\" directory\n",
    "# For example, running this (by clicking run or pressing Shift+Enter) will list all files under the input directory\n",
    "\n",
    "import os\n",
    "for dirname, _, filenames in os.walk('/kaggle/input'):\n",
    "    for filename in filenames:\n",
    "        print(os.path.join(dirname, filename))\n",
    "\n",
    "# You can write up to 20GB to the current directory (/kaggle/working/) that gets preserved as output when you create a version using \"Save & Run All\" \n",
    "# You can also write temporary files to /kaggle/temp/, but they won't be saved outside of the current session"
   ]
  },
  {
   "cell_type": "code",
   "execution_count": 2,
   "metadata": {
    "execution": {
     "iopub.execute_input": "2021-09-30T13:07:34.268039Z",
     "iopub.status.busy": "2021-09-30T13:07:34.267746Z",
     "iopub.status.idle": "2021-09-30T13:07:38.969949Z",
     "shell.execute_reply": "2021-09-30T13:07:38.969082Z",
     "shell.execute_reply.started": "2021-09-30T13:07:34.268010Z"
    }
   },
   "outputs": [],
   "source": [
    "# Load Data\n",
    "df=pd.read_csv('../input/creditcardfraud/creditcard.csv')\n",
    "df.head()"
   ]
  },
  {
   "cell_type": "code",
   "execution_count": 3,
   "metadata": {
    "execution": {
     "iopub.execute_input": "2021-09-30T13:07:38.973046Z",
     "iopub.status.busy": "2021-09-30T13:07:38.972790Z",
     "iopub.status.idle": "2021-09-30T13:07:39.016514Z",
     "shell.execute_reply": "2021-09-30T13:07:39.015578Z",
     "shell.execute_reply.started": "2021-09-30T13:07:38.973015Z"
    }
   },
   "outputs": [],
   "source": [
    "# check null values in the Data\n",
    "np.where(df.isnull().sum()!=0)"
   ]
  },
  {
   "cell_type": "code",
   "execution_count": 4,
   "metadata": {
    "execution": {
     "iopub.execute_input": "2021-09-30T13:07:39.019381Z",
     "iopub.status.busy": "2021-09-30T13:07:39.018942Z",
     "iopub.status.idle": "2021-09-30T13:07:39.256793Z",
     "shell.execute_reply": "2021-09-30T13:07:39.255810Z",
     "shell.execute_reply.started": "2021-09-30T13:07:39.019350Z"
    }
   },
   "outputs": [],
   "source": [
    "# Imbalanced data class\n",
    "df.Class.value_counts().plot.bar()\n",
    "plt.xticks([0,1],labels=['Non-Fraud','Fraud'],rotation=0)\n",
    "plt.title('Imbalanced Class in Credit Card Fraud')\n",
    "plt.xlabel('Class')\n",
    "plt.ylabel('Number of Class')\n",
    "plt.show()"
   ]
  },
  {
   "cell_type": "code",
   "execution_count": 5,
   "metadata": {
    "execution": {
     "iopub.execute_input": "2021-09-30T13:07:39.258297Z",
     "iopub.status.busy": "2021-09-30T13:07:39.257976Z",
     "iopub.status.idle": "2021-09-30T13:07:41.319217Z",
     "shell.execute_reply": "2021-09-30T13:07:41.318091Z",
     "shell.execute_reply.started": "2021-09-30T13:07:39.258259Z"
    }
   },
   "outputs": [],
   "source": [
    "# Time and amount analyze by class\n",
    "nf_time=df.loc[df['Class']==0]['Time']\n",
    "f_time=df.loc[df['Class']==1]['Time']\n",
    "\n",
    "figure, axes = plt.subplots(ncols=2,figsize=(10,5))\n",
    "sns.distplot(nf_time,ax=axes[0],color='b',hist=False)\n",
    "sns.distplot(f_time,ax=axes[0],color='r',hist=False)\n",
    "axes[0].legend(labels=['non-fraud','fraud'])\n",
    "axes[0].set_title('Distribution of Time by Class')\n",
    "\n",
    "\n",
    "sns.boxplot(x='Class',y='Amount',data=df,showfliers=False,ax=axes[1])\n",
    "axes[1].set_title('Amount of credit card spent by Class')\n",
    "axes[1].set_xticklabels(['non-fraud','fraud'])"
   ]
  },
  {
   "cell_type": "markdown",
   "metadata": {},
   "source": []
  },
  {
   "cell_type": "code",
   "execution_count": 6,
   "metadata": {
    "execution": {
     "iopub.execute_input": "2021-09-30T13:07:41.321551Z",
     "iopub.status.busy": "2021-09-30T13:07:41.321250Z",
     "iopub.status.idle": "2021-09-30T13:07:41.615489Z",
     "shell.execute_reply": "2021-09-30T13:07:41.614633Z",
     "shell.execute_reply.started": "2021-09-30T13:07:41.321510Z"
    }
   },
   "outputs": [],
   "source": [
    "from sklearn. preprocessing import StandardScaler\n",
    "#scaling time and amount data\n",
    "sm=StandardScaler()\n",
    "df['scaled_amount'] = sm.fit_transform(df['Amount'].values.reshape(-1, 1))\n",
    "df['scaled_time'] = sm.fit_transform(df['Time'].values.reshape(-1, 1))\n",
    "df.drop(['Amount','Time'],axis=1,inplace=True)\n",
    "df.head()"
   ]
  },
  {
   "cell_type": "code",
   "execution_count": 7,
   "metadata": {
    "execution": {
     "iopub.execute_input": "2021-09-30T13:07:41.616997Z",
     "iopub.status.busy": "2021-09-30T13:07:41.616764Z",
     "iopub.status.idle": "2021-09-30T13:07:43.220007Z",
     "shell.execute_reply": "2021-09-30T13:07:43.219404Z",
     "shell.execute_reply.started": "2021-09-30T13:07:41.616970Z"
    }
   },
   "outputs": [],
   "source": [
    "from sklearn.model_selection import train_test_split\n",
    "from imblearn.over_sampling import SMOTE\n",
    "# set the ramdom state\n",
    "rnd=0\n",
    "# split feature and response variable\n",
    "X = df.drop('Class',axis=1)\n",
    "y = df['Class']\n",
    "# split and resampling data\n",
    "method = SMOTE(random_state=rnd)\n",
    "X_train, X_test, y_train, y_test = train_test_split(X, y, test_size=0.2, random_state=rnd)\n",
    "X_resample, y_resample = method.fit_resample(X_train, y_train)\n",
    "\n",
    "print('the shape of train data before over-sampling:{}'.format(X_train.shape))\n",
    "print('the shape of train data after over-sampling:{}'.format(X_resample.shape))\n",
    "print('the number of class level \"1\":{}'.format(sum(y_train==1)))\n",
    "print('the number of class level \"1\":{}'.format(sum(y_resample==1)))"
   ]
  },
  {
   "cell_type": "code",
   "execution_count": 19,
   "metadata": {
    "execution": {
     "iopub.execute_input": "2021-09-30T14:21:03.908432Z",
     "iopub.status.busy": "2021-09-30T14:21:03.908156Z",
     "iopub.status.idle": "2021-09-30T14:21:11.371730Z",
     "shell.execute_reply": "2021-09-30T14:21:11.357781Z",
     "shell.execute_reply.started": "2021-09-30T14:21:03.908406Z"
    }
   },
   "outputs": [],
   "source": [
    "from sklearn.linear_model import LogisticRegression\n",
    "from sklearn.neighbors import KNeighborsClassifier\n",
    "from sklearn.ensemble import RandomForestClassifier\n",
    "from sklearn.model_selection import cross_val_score\n",
    "from sklearn.metrics import precision_recall_curve,roc_auc_score,average_precision_score,roc_curve\n",
    "\n",
    "# simple logistic regression\n",
    "lr=LogisticRegression(random_state=rnd)\n",
    "lr.fit(X_resample,y_resample)\n",
    "predicted=lr.predict(X_test)\n",
    "average_precision =average_precision_score(y_test,predicted)\n",
    "print(average_precision)\n",
    "precision, recall, _=precision_recall_curve(y_test,predicted)"
   ]
  },
  {
   "cell_type": "code",
   "execution_count": 12,
   "metadata": {
    "execution": {
     "iopub.execute_input": "2021-09-30T14:15:52.652126Z",
     "iopub.status.busy": "2021-09-30T14:15:52.651765Z",
     "iopub.status.idle": "2021-09-30T14:15:52.887137Z",
     "shell.execute_reply": "2021-09-30T14:15:52.885354Z",
     "shell.execute_reply.started": "2021-09-30T14:15:52.652082Z"
    }
   },
   "outputs": [],
   "source": [
    "plt.plot(recall,precision)"
   ]
  },
  {
   "cell_type": "code",
   "execution_count": 20,
   "metadata": {
    "execution": {
     "iopub.execute_input": "2021-09-30T14:21:57.034090Z",
     "iopub.status.busy": "2021-09-30T14:21:57.033403Z",
     "iopub.status.idle": "2021-09-30T14:21:57.303067Z",
     "shell.execute_reply": "2021-09-30T14:21:57.302146Z",
     "shell.execute_reply.started": "2021-09-30T14:21:57.034043Z"
    }
   },
   "outputs": [],
   "source": [
    "# Obtain model probabilities\n",
    "probs = lr.predict_proba(X_test)\n",
    "print(roc_auc_score(y_test, probs[:, 1]))\n",
    "# Print ROC_AUC score using probabilities \n",
    "fpr, tpr, thresholds =roc_curve(y_test, probs[:, 1])\n",
    "# Plot ROC\n",
    "plt.title('Receiver Operating Characteristic')\n",
    "plt.plot(fpr, tpr, 'b')\n",
    "plt.legend(loc='lower right')\n",
    "plt.plot([0,1],[0,1],'r--')\n",
    "plt.xlim([-0.1,1.0])\n",
    "plt.ylim([-0.1,1.01])\n",
    "plt.ylabel('True Positive Rate')\n",
    "plt.xlabel('False Positive Rate')\n",
    "plt.show()"
   ]
  }
 ],
 "metadata": {
  "kernelspec": {
   "display_name": "Python 3",
   "language": "python",
   "name": "python3"
  },
  "language_info": {
   "codemirror_mode": {
    "name": "ipython",
    "version": 3
   },
   "file_extension": ".py",
   "mimetype": "text/x-python",
   "name": "python",
   "nbconvert_exporter": "python",
   "pygments_lexer": "ipython3",
   "version": "3.7.6"
  },
  "toc": {
   "base_numbering": 1,
   "nav_menu": {},
   "number_sections": true,
   "sideBar": true,
   "skip_h1_title": false,
   "title_cell": "Table of Contents",
   "title_sidebar": "Contents",
   "toc_cell": false,
   "toc_position": {},
   "toc_section_display": true,
   "toc_window_display": false
  }
 },
 "nbformat": 4,
 "nbformat_minor": 4
}
